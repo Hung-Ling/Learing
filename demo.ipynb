{
 "cells": [
  {
   "cell_type": "code",
   "execution_count": null,
   "metadata": {},
   "outputs": [],
   "source": [
    "%%writefile\n",
    "## python\n",
    "### python\n",
    "#### python\n",
    "\n",
    "a=15\n",
    "b=2\n",
    "c=3\n",
    "d='actg'\n",
    "\n",
    "a, b,c,d\n",
    "\n",
    "!pip install emoji\n",
    "\n",
    "from emoji import emojize\n",
    "\n",
    "emojize(\":thumbs_up:\")\n",
    "\n",
    "emojize(\":thumbs_up:\")*10\n",
    "\n",
    "emojize()\n",
    "\n",
    "data='i am a data'\n",
    "\n",
    "%store data\n",
    "\n",
    "%run demo2.ipynb\n",
    "\n",
    "%run demo3.py\n",
    "\n"
   ]
  },
  {
   "cell_type": "code",
   "execution_count": 19,
   "metadata": {},
   "outputs": [
    {
     "name": "stdout",
     "output_type": "stream",
     "text": [
      "11\n"
     ]
    }
   ],
   "source": [
    "%run python_code.py"
   ]
  }
 ],
 "metadata": {
  "kernelspec": {
   "display_name": "Python 3",
   "language": "python",
   "name": "python3"
  },
  "language_info": {
   "codemirror_mode": {
    "name": "ipython",
    "version": 3
   },
   "file_extension": ".py",
   "mimetype": "text/x-python",
   "name": "python",
   "nbconvert_exporter": "python",
   "pygments_lexer": "ipython3",
   "version": "3.7.1"
  }
 },
 "nbformat": 4,
 "nbformat_minor": 2
}
